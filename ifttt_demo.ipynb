{
 "cells": [
  {
   "cell_type": "code",
   "execution_count": 17,
   "metadata": {},
   "outputs": [
    {
     "name": "stdout",
     "output_type": "stream",
     "text": [
      "IFTTT連携開始\n",
      "IFTTT連携終了\n"
     ]
    }
   ],
   "source": [
    "import requests\n",
    "\n",
    "# IFTTT_Webhook\n",
    "def ifttt_webhook(eventid,key):\n",
    "    payload = {\"value1\": \"Internet\",\n",
    "                \"value2\": \"Of\",\n",
    "                \"value3\": \"Things\" }\n",
    "    url = \"https://maker.ifttt.com/trigger/\" + eventid + \"/with/key/\" + key\n",
    "    response = requests.post(url, data=payload)\n",
    "\n",
    "# ここからスタート\n",
    "if __name__ == '__main__':\n",
    "        print (\"IFTTT連携開始\")\n",
    "\n",
    "        # IFTTT_Webhook\n",
    "        ifttt_webhook(\"python_tweet\",\"J6SLOGA1OOdjxqnCVrJiv\")\n",
    "\n",
    "        print (\"IFTTT連携終了\")"
   ]
  },
  {
   "cell_type": "code",
   "execution_count": 20,
   "metadata": {},
   "outputs": [
    {
     "name": "stdout",
     "output_type": "stream",
     "text": [
      "IFTTT連携開始\n",
      "IFTTT連携終了\n"
     ]
    }
   ],
   "source": [
    "import requests\n",
    "\n",
    "# IFTTT_Webhook\n",
    "def ifttt_webhook(eventid,key):\n",
    "    payload = {\"value1\": \"Internet\",\n",
    "                \"value2\": \"Of\",\n",
    "                \"value3\": \"Things\" }\n",
    "    url = \"https://maker.ifttt.com/trigger/\" + eventid + \"/with/key/\" + key\n",
    "    response = requests.post(url, data=payload)\n",
    "\n",
    "# ここからスタート\n",
    "if __name__ == '__main__':\n",
    "        print (\"IFTTT連携開始\")\n",
    "\n",
    "        # IFTTT_Webhook\n",
    "        ifttt_webhook(\"python_line\",\"J6SLOGA1OOdjxqnCVrJiv\")\n",
    "\n",
    "        print (\"IFTTT連携終了\")"
   ]
  },
  {
   "cell_type": "code",
   "execution_count": null,
   "metadata": {},
   "outputs": [],
   "source": []
  }
 ],
 "metadata": {
  "kernelspec": {
   "display_name": "Python 3",
   "language": "python",
   "name": "python3"
  },
  "language_info": {
   "codemirror_mode": {
    "name": "ipython",
    "version": 3
   },
   "file_extension": ".py",
   "mimetype": "text/x-python",
   "name": "python",
   "nbconvert_exporter": "python",
   "pygments_lexer": "ipython3",
   "version": "3.7.3"
  }
 },
 "nbformat": 4,
 "nbformat_minor": 4
}
