{
 "cells": [
  {
   "cell_type": "code",
   "execution_count": 3,
   "metadata": {},
   "outputs": [],
   "source": [
    "#!/usr/bin/python\n",
    "# coding: utf-8\n",
    " \n",
    "# モジュールをインポートする\n",
    "import RPi.GPIO as GPIO\n",
    "import time\n",
    " \n",
    "# GPIO指定をGPIO番号で行う\n",
    "GPIO.setmode(GPIO.BCM)\n",
    " \n",
    "# GPIO21ピンを出力モードに設定\n",
    "GPIO.setup(21, GPIO.OUT)\n",
    " \n",
    "# GPIO21番ピンを3.3Vに設定\n",
    "GPIO.output(21, 1)\n",
    " \n",
    "# 1秒待つ\n",
    "time.sleep(10)\n",
    " \n",
    "# GPIO21番ピンを0Vに設定\n",
    "GPIO.output(21, 0)\n",
    " \n",
    "# GPIO設定をリセット\n",
    "GPIO.cleanup()"
   ]
  },
  {
   "cell_type": "code",
   "execution_count": null,
   "metadata": {},
   "outputs": [],
   "source": []
  }
 ],
 "metadata": {
  "kernelspec": {
   "display_name": "Python 3",
   "language": "python",
   "name": "python3"
  },
  "language_info": {
   "codemirror_mode": {
    "name": "ipython",
    "version": 3
   },
   "file_extension": ".py",
   "mimetype": "text/x-python",
   "name": "python",
   "nbconvert_exporter": "python",
   "pygments_lexer": "ipython3",
   "version": "3.7.3"
  }
 },
 "nbformat": 4,
 "nbformat_minor": 4
}
